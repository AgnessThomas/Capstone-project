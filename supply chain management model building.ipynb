{
 "cells": [
  {
   "cell_type": "markdown",
   "id": "6e23ebb8-494c-4c04-ae94-d1028d111371",
   "metadata": {},
   "source": [
    "# Supply Chain Management; Model Building"
   ]
  },
  {
   "cell_type": "code",
   "execution_count": 1,
   "id": "0869ff47-7fb9-489e-a5fd-b76566d121d6",
   "metadata": {},
   "outputs": [],
   "source": [
    "import pandas as pd\n",
    "import numpy as np"
   ]
  },
  {
   "cell_type": "code",
   "execution_count": 2,
   "id": "7b1c8340-9921-49d2-a431-c184a64b83c3",
   "metadata": {},
   "outputs": [
    {
     "name": "stdout",
     "output_type": "stream",
     "text": [
      "Collecting xgboost\n",
      "  Downloading xgboost-2.0.1-py3-none-win_amd64.whl (99.7 MB)\n",
      "     ------                                   17.2/99.7 MB ? eta -:--:--\n",
      "Note: you may need to restart the kernel to use updated packages.\n"
     ]
    },
    {
     "name": "stderr",
     "output_type": "stream",
     "text": [
      "ERROR: Exception:\n",
      "Traceback (most recent call last):\n",
      "  File \"C:\\Users\\Lenovo\\AppData\\Local\\Programs\\Python\\Python311\\Lib\\site-packages\\pip\\_vendor\\urllib3\\response.py\", line 437, in _error_catcher\n",
      "    yield\n",
      "  File \"C:\\Users\\Lenovo\\AppData\\Local\\Programs\\Python\\Python311\\Lib\\site-packages\\pip\\_vendor\\urllib3\\response.py\", line 560, in read\n",
      "    data = self._fp_read(amt) if not fp_closed else b\"\"\n",
      "           ^^^^^^^^^^^^^^^^^^\n",
      "  File \"C:\\Users\\Lenovo\\AppData\\Local\\Programs\\Python\\Python311\\Lib\\site-packages\\pip\\_vendor\\urllib3\\response.py\", line 526, in _fp_read\n",
      "    return self._fp.read(amt) if amt is not None else self._fp.read()\n",
      "           ^^^^^^^^^^^^^^^^^^\n",
      "  File \"C:\\Users\\Lenovo\\AppData\\Local\\Programs\\Python\\Python311\\Lib\\site-packages\\pip\\_vendor\\cachecontrol\\filewrapper.py\", line 90, in read\n",
      "    data = self.__fp.read(amt)\n",
      "           ^^^^^^^^^^^^^^^^^^^\n",
      "  File \"C:\\Users\\Lenovo\\AppData\\Local\\Programs\\Python\\Python311\\Lib\\http\\client.py\", line 465, in read\n",
      "    s = self.fp.read(amt)\n",
      "        ^^^^^^^^^^^^^^^^^\n",
      "  File \"C:\\Users\\Lenovo\\AppData\\Local\\Programs\\Python\\Python311\\Lib\\socket.py\", line 706, in readinto\n",
      "    return self._sock.recv_into(b)\n",
      "           ^^^^^^^^^^^^^^^^^^^^^^^\n",
      "  File \"C:\\Users\\Lenovo\\AppData\\Local\\Programs\\Python\\Python311\\Lib\\ssl.py\", line 1278, in recv_into\n",
      "    return self.read(nbytes, buffer)\n",
      "           ^^^^^^^^^^^^^^^^^^^^^^^^^\n",
      "  File \"C:\\Users\\Lenovo\\AppData\\Local\\Programs\\Python\\Python311\\Lib\\ssl.py\", line 1134, in read\n",
      "    return self._sslobj.read(len, buffer)\n",
      "           ^^^^^^^^^^^^^^^^^^^^^^^^^^^^^^\n",
      "TimeoutError: The read operation timed out\n",
      "\n",
      "During handling of the above exception, another exception occurred:\n",
      "\n",
      "Traceback (most recent call last):\n",
      "  File \"C:\\Users\\Lenovo\\AppData\\Local\\Programs\\Python\\Python311\\Lib\\site-packages\\pip\\_internal\\cli\\base_command.py\", line 160, in exc_logging_wrapper\n",
      "    status = run_func(*args)\n",
      "             ^^^^^^^^^^^^^^^\n",
      "  File \"C:\\Users\\Lenovo\\AppData\\Local\\Programs\\Python\\Python311\\Lib\\site-packages\\pip\\_internal\\cli\\req_command.py\", line 247, in wrapper\n",
      "    return func(self, options, args)\n",
      "           ^^^^^^^^^^^^^^^^^^^^^^^^^\n",
      "  File \"C:\\Users\\Lenovo\\AppData\\Local\\Programs\\Python\\Python311\\Lib\\site-packages\\pip\\_internal\\commands\\install.py\", line 400, in run\n",
      "    requirement_set = resolver.resolve(\n",
      "                      ^^^^^^^^^^^^^^^^^\n",
      "  File \"C:\\Users\\Lenovo\\AppData\\Local\\Programs\\Python\\Python311\\Lib\\site-packages\\pip\\_internal\\resolution\\resolvelib\\resolver.py\", line 92, in resolve\n",
      "    result = self._result = resolver.resolve(\n",
      "                            ^^^^^^^^^^^^^^^^^\n",
      "  File \"C:\\Users\\Lenovo\\AppData\\Local\\Programs\\Python\\Python311\\Lib\\site-packages\\pip\\_vendor\\resolvelib\\resolvers.py\", line 481, in resolve\n",
      "    state = resolution.resolve(requirements, max_rounds=max_rounds)\n",
      "            ^^^^^^^^^^^^^^^^^^^^^^^^^^^^^^^^^^^^^^^^^^^^^^^^^^^^^^^\n",
      "  File \"C:\\Users\\Lenovo\\AppData\\Local\\Programs\\Python\\Python311\\Lib\\site-packages\\pip\\_vendor\\resolvelib\\resolvers.py\", line 348, in resolve\n",
      "    self._add_to_criteria(self.state.criteria, r, parent=None)\n",
      "  File \"C:\\Users\\Lenovo\\AppData\\Local\\Programs\\Python\\Python311\\Lib\\site-packages\\pip\\_vendor\\resolvelib\\resolvers.py\", line 172, in _add_to_criteria\n",
      "    if not criterion.candidates:\n",
      "  File \"C:\\Users\\Lenovo\\AppData\\Local\\Programs\\Python\\Python311\\Lib\\site-packages\\pip\\_vendor\\resolvelib\\structs.py\", line 151, in __bool__\n",
      "    return bool(self._sequence)\n",
      "           ^^^^^^^^^^^^^^^^^^^^\n",
      "  File \"C:\\Users\\Lenovo\\AppData\\Local\\Programs\\Python\\Python311\\Lib\\site-packages\\pip\\_internal\\resolution\\resolvelib\\found_candidates.py\", line 155, in __bool__\n",
      "    return any(self)\n",
      "           ^^^^^^^^^\n",
      "  File \"C:\\Users\\Lenovo\\AppData\\Local\\Programs\\Python\\Python311\\Lib\\site-packages\\pip\\_internal\\resolution\\resolvelib\\found_candidates.py\", line 143, in <genexpr>\n",
      "    return (c for c in iterator if id(c) not in self._incompatible_ids)\n",
      "           ^^^^^^^^^^^^^^^^^^^^^^^^^^^^^^^^^^^^^^^^^^^^^^^^^^^^^^^^^^^^\n",
      "  File \"C:\\Users\\Lenovo\\AppData\\Local\\Programs\\Python\\Python311\\Lib\\site-packages\\pip\\_internal\\resolution\\resolvelib\\found_candidates.py\", line 47, in _iter_built\n",
      "    candidate = func()\n",
      "                ^^^^^^\n",
      "  File \"C:\\Users\\Lenovo\\AppData\\Local\\Programs\\Python\\Python311\\Lib\\site-packages\\pip\\_internal\\resolution\\resolvelib\\factory.py\", line 206, in _make_candidate_from_link\n",
      "    self._link_candidate_cache[link] = LinkCandidate(\n",
      "                                       ^^^^^^^^^^^^^^\n",
      "  File \"C:\\Users\\Lenovo\\AppData\\Local\\Programs\\Python\\Python311\\Lib\\site-packages\\pip\\_internal\\resolution\\resolvelib\\candidates.py\", line 297, in __init__\n",
      "    super().__init__(\n",
      "  File \"C:\\Users\\Lenovo\\AppData\\Local\\Programs\\Python\\Python311\\Lib\\site-packages\\pip\\_internal\\resolution\\resolvelib\\candidates.py\", line 162, in __init__\n",
      "    self.dist = self._prepare()\n",
      "                ^^^^^^^^^^^^^^^\n",
      "  File \"C:\\Users\\Lenovo\\AppData\\Local\\Programs\\Python\\Python311\\Lib\\site-packages\\pip\\_internal\\resolution\\resolvelib\\candidates.py\", line 231, in _prepare\n",
      "    dist = self._prepare_distribution()\n",
      "           ^^^^^^^^^^^^^^^^^^^^^^^^^^^^\n",
      "  File \"C:\\Users\\Lenovo\\AppData\\Local\\Programs\\Python\\Python311\\Lib\\site-packages\\pip\\_internal\\resolution\\resolvelib\\candidates.py\", line 308, in _prepare_distribution\n",
      "    return preparer.prepare_linked_requirement(self._ireq, parallel_builds=True)\n",
      "           ^^^^^^^^^^^^^^^^^^^^^^^^^^^^^^^^^^^^^^^^^^^^^^^^^^^^^^^^^^^^^^^^^^^^^\n",
      "  File \"C:\\Users\\Lenovo\\AppData\\Local\\Programs\\Python\\Python311\\Lib\\site-packages\\pip\\_internal\\operations\\prepare.py\", line 491, in prepare_linked_requirement\n",
      "    return self._prepare_linked_requirement(req, parallel_builds)\n",
      "           ^^^^^^^^^^^^^^^^^^^^^^^^^^^^^^^^^^^^^^^^^^^^^^^^^^^^^^\n",
      "  File \"C:\\Users\\Lenovo\\AppData\\Local\\Programs\\Python\\Python311\\Lib\\site-packages\\pip\\_internal\\operations\\prepare.py\", line 536, in _prepare_linked_requirement\n",
      "    local_file = unpack_url(\n",
      "                 ^^^^^^^^^^^\n",
      "  File \"C:\\Users\\Lenovo\\AppData\\Local\\Programs\\Python\\Python311\\Lib\\site-packages\\pip\\_internal\\operations\\prepare.py\", line 166, in unpack_url\n",
      "    file = get_http_url(\n",
      "           ^^^^^^^^^^^^^\n",
      "  File \"C:\\Users\\Lenovo\\AppData\\Local\\Programs\\Python\\Python311\\Lib\\site-packages\\pip\\_internal\\operations\\prepare.py\", line 107, in get_http_url\n",
      "    from_path, content_type = download(link, temp_dir.path)\n",
      "                              ^^^^^^^^^^^^^^^^^^^^^^^^^^^^^\n",
      "  File \"C:\\Users\\Lenovo\\AppData\\Local\\Programs\\Python\\Python311\\Lib\\site-packages\\pip\\_internal\\network\\download.py\", line 147, in __call__\n",
      "    for chunk in chunks:\n",
      "  File \"C:\\Users\\Lenovo\\AppData\\Local\\Programs\\Python\\Python311\\Lib\\site-packages\\pip\\_internal\\cli\\progress_bars.py\", line 53, in _rich_progress_bar\n",
      "    for chunk in iterable:\n",
      "  File \"C:\\Users\\Lenovo\\AppData\\Local\\Programs\\Python\\Python311\\Lib\\site-packages\\pip\\_internal\\network\\utils.py\", line 63, in response_chunks\n",
      "    for chunk in response.raw.stream(\n",
      "  File \"C:\\Users\\Lenovo\\AppData\\Local\\Programs\\Python\\Python311\\Lib\\site-packages\\pip\\_vendor\\urllib3\\response.py\", line 621, in stream\n",
      "    data = self.read(amt=amt, decode_content=decode_content)\n",
      "           ^^^^^^^^^^^^^^^^^^^^^^^^^^^^^^^^^^^^^^^^^^^^^^^^^\n",
      "  File \"C:\\Users\\Lenovo\\AppData\\Local\\Programs\\Python\\Python311\\Lib\\site-packages\\pip\\_vendor\\urllib3\\response.py\", line 559, in read\n",
      "    with self._error_catcher():\n",
      "  File \"C:\\Users\\Lenovo\\AppData\\Local\\Programs\\Python\\Python311\\Lib\\contextlib.py\", line 155, in __exit__\n",
      "    self.gen.throw(typ, value, traceback)\n",
      "  File \"C:\\Users\\Lenovo\\AppData\\Local\\Programs\\Python\\Python311\\Lib\\site-packages\\pip\\_vendor\\urllib3\\response.py\", line 442, in _error_catcher\n",
      "    raise ReadTimeoutError(self._pool, None, \"Read timed out.\")\n",
      "pip._vendor.urllib3.exceptions.ReadTimeoutError: HTTPSConnectionPool(host='files.pythonhosted.org', port=443): Read timed out.\n",
      "\n",
      "[notice] A new release of pip available: 22.3.1 -> 23.3.1\n",
      "[notice] To update, run: python.exe -m pip install --upgrade pip\n"
     ]
    }
   ],
   "source": [
    "%pip install xgboost"
   ]
  },
  {
   "cell_type": "code",
   "execution_count": 2,
   "id": "c2e4dc78-33e6-4432-b811-7d952e4466f5",
   "metadata": {},
   "outputs": [
    {
     "data": {
      "text/html": [
       "<div>\n",
       "<style scoped>\n",
       "    .dataframe tbody tr th:only-of-type {\n",
       "        vertical-align: middle;\n",
       "    }\n",
       "\n",
       "    .dataframe tbody tr th {\n",
       "        vertical-align: top;\n",
       "    }\n",
       "\n",
       "    .dataframe thead th {\n",
       "        text-align: right;\n",
       "    }\n",
       "</style>\n",
       "<table border=\"1\" class=\"dataframe\">\n",
       "  <thead>\n",
       "    <tr style=\"text-align: right;\">\n",
       "      <th></th>\n",
       "      <th>Unnamed: 0</th>\n",
       "      <th>Ware_house_ID</th>\n",
       "      <th>WH_Manager_ID</th>\n",
       "      <th>Location_type</th>\n",
       "      <th>WH_capacity_size</th>\n",
       "      <th>zone</th>\n",
       "      <th>WH_regional_zone</th>\n",
       "      <th>num_refill_req_l3m</th>\n",
       "      <th>transport_issue_l1y</th>\n",
       "      <th>Competitor_in_mkt</th>\n",
       "      <th>...</th>\n",
       "      <th>dist_from_hub</th>\n",
       "      <th>workers_num</th>\n",
       "      <th>wh_est_year</th>\n",
       "      <th>storage_issue_reported_l3m</th>\n",
       "      <th>temp_reg_mach</th>\n",
       "      <th>approved_wh_govt_certificate</th>\n",
       "      <th>wh_breakdown_l3m</th>\n",
       "      <th>govt_check_l3m</th>\n",
       "      <th>product_wg_ton</th>\n",
       "      <th>Regional_zone</th>\n",
       "    </tr>\n",
       "  </thead>\n",
       "  <tbody>\n",
       "    <tr>\n",
       "      <th>0</th>\n",
       "      <td>16621</td>\n",
       "      <td>WH_116621</td>\n",
       "      <td>EID_66621</td>\n",
       "      <td>Rural</td>\n",
       "      <td>Large</td>\n",
       "      <td>North</td>\n",
       "      <td>Zone 5</td>\n",
       "      <td>5</td>\n",
       "      <td>0</td>\n",
       "      <td>3</td>\n",
       "      <td>...</td>\n",
       "      <td>156</td>\n",
       "      <td>30.0</td>\n",
       "      <td>2006.0</td>\n",
       "      <td>24</td>\n",
       "      <td>0</td>\n",
       "      <td>A</td>\n",
       "      <td>2</td>\n",
       "      <td>5</td>\n",
       "      <td>30132</td>\n",
       "      <td>North Zone 5</td>\n",
       "    </tr>\n",
       "    <tr>\n",
       "      <th>1</th>\n",
       "      <td>16622</td>\n",
       "      <td>WH_116622</td>\n",
       "      <td>EID_66622</td>\n",
       "      <td>Rural</td>\n",
       "      <td>Large</td>\n",
       "      <td>North</td>\n",
       "      <td>Zone 5</td>\n",
       "      <td>5</td>\n",
       "      <td>0</td>\n",
       "      <td>2</td>\n",
       "      <td>...</td>\n",
       "      <td>79</td>\n",
       "      <td>31.0</td>\n",
       "      <td>2019.0</td>\n",
       "      <td>5</td>\n",
       "      <td>1</td>\n",
       "      <td>C</td>\n",
       "      <td>2</td>\n",
       "      <td>24</td>\n",
       "      <td>6075</td>\n",
       "      <td>North Zone 5</td>\n",
       "    </tr>\n",
       "    <tr>\n",
       "      <th>2</th>\n",
       "      <td>16623</td>\n",
       "      <td>WH_116623</td>\n",
       "      <td>EID_66623</td>\n",
       "      <td>Rural</td>\n",
       "      <td>Small</td>\n",
       "      <td>North</td>\n",
       "      <td>Zone 6</td>\n",
       "      <td>3</td>\n",
       "      <td>0</td>\n",
       "      <td>3</td>\n",
       "      <td>...</td>\n",
       "      <td>70</td>\n",
       "      <td>41.0</td>\n",
       "      <td>2008.0</td>\n",
       "      <td>19</td>\n",
       "      <td>1</td>\n",
       "      <td>A+</td>\n",
       "      <td>5</td>\n",
       "      <td>9</td>\n",
       "      <td>24076</td>\n",
       "      <td>North Zone 6</td>\n",
       "    </tr>\n",
       "    <tr>\n",
       "      <th>3</th>\n",
       "      <td>16624</td>\n",
       "      <td>WH_116624</td>\n",
       "      <td>EID_66624</td>\n",
       "      <td>Rural</td>\n",
       "      <td>Mid</td>\n",
       "      <td>West</td>\n",
       "      <td>Zone 4</td>\n",
       "      <td>5</td>\n",
       "      <td>2</td>\n",
       "      <td>2</td>\n",
       "      <td>...</td>\n",
       "      <td>255</td>\n",
       "      <td>33.0</td>\n",
       "      <td>2017.0</td>\n",
       "      <td>9</td>\n",
       "      <td>1</td>\n",
       "      <td>A+</td>\n",
       "      <td>3</td>\n",
       "      <td>11</td>\n",
       "      <td>13092</td>\n",
       "      <td>West Zone 4</td>\n",
       "    </tr>\n",
       "    <tr>\n",
       "      <th>4</th>\n",
       "      <td>16625</td>\n",
       "      <td>WH_116625</td>\n",
       "      <td>EID_66625</td>\n",
       "      <td>Urban</td>\n",
       "      <td>Mid</td>\n",
       "      <td>North</td>\n",
       "      <td>Zone 4</td>\n",
       "      <td>6</td>\n",
       "      <td>0</td>\n",
       "      <td>4</td>\n",
       "      <td>...</td>\n",
       "      <td>205</td>\n",
       "      <td>20.0</td>\n",
       "      <td>1999.0</td>\n",
       "      <td>25</td>\n",
       "      <td>0</td>\n",
       "      <td>B</td>\n",
       "      <td>4</td>\n",
       "      <td>26</td>\n",
       "      <td>29071</td>\n",
       "      <td>North Zone 4</td>\n",
       "    </tr>\n",
       "  </tbody>\n",
       "</table>\n",
       "<p>5 rows × 26 columns</p>\n",
       "</div>"
      ],
      "text/plain": [
       "   Unnamed: 0 Ware_house_ID WH_Manager_ID Location_type WH_capacity_size  \\\n",
       "0       16621     WH_116621     EID_66621         Rural            Large   \n",
       "1       16622     WH_116622     EID_66622         Rural            Large   \n",
       "2       16623     WH_116623     EID_66623         Rural            Small   \n",
       "3       16624     WH_116624     EID_66624         Rural              Mid   \n",
       "4       16625     WH_116625     EID_66625         Urban              Mid   \n",
       "\n",
       "    zone WH_regional_zone  num_refill_req_l3m  transport_issue_l1y  \\\n",
       "0  North           Zone 5                   5                    0   \n",
       "1  North           Zone 5                   5                    0   \n",
       "2  North           Zone 6                   3                    0   \n",
       "3   West           Zone 4                   5                    2   \n",
       "4  North           Zone 4                   6                    0   \n",
       "\n",
       "   Competitor_in_mkt  ...  dist_from_hub workers_num  wh_est_year  \\\n",
       "0                  3  ...            156        30.0       2006.0   \n",
       "1                  2  ...             79        31.0       2019.0   \n",
       "2                  3  ...             70        41.0       2008.0   \n",
       "3                  2  ...            255        33.0       2017.0   \n",
       "4                  4  ...            205        20.0       1999.0   \n",
       "\n",
       "   storage_issue_reported_l3m  temp_reg_mach  approved_wh_govt_certificate  \\\n",
       "0                          24              0                             A   \n",
       "1                           5              1                             C   \n",
       "2                          19              1                            A+   \n",
       "3                           9              1                            A+   \n",
       "4                          25              0                             B   \n",
       "\n",
       "   wh_breakdown_l3m  govt_check_l3m  product_wg_ton  Regional_zone  \n",
       "0                 2               5           30132   North Zone 5  \n",
       "1                 2              24            6075   North Zone 5  \n",
       "2                 5               9           24076   North Zone 6  \n",
       "3                 3              11           13092    West Zone 4  \n",
       "4                 4              26           29071   North Zone 4  \n",
       "\n",
       "[5 rows x 26 columns]"
      ]
     },
     "execution_count": 2,
     "metadata": {},
     "output_type": "execute_result"
    }
   ],
   "source": [
    "df = pd.read_csv('supply_test.csv')\n",
    "\n",
    "df['Regional_zone'] = df['zone'] + ' ' + df['WH_regional_zone']\n",
    "\n",
    "df.head()"
   ]
  },
  {
   "cell_type": "code",
   "execution_count": 3,
   "id": "f310f614-6a78-411a-a376-6c9c62002af2",
   "metadata": {},
   "outputs": [
    {
     "data": {
      "text/plain": [
       "wh_est_year                     2685\n",
       "storage_issue_reported_l3m         0\n",
       "wh_breakdown_l3m                   0\n",
       "Location_type                      0\n",
       "WH_capacity_size                   0\n",
       "wh_owner_type                      0\n",
       "approved_wh_govt_certificate     206\n",
       "Regional_zone                      0\n",
       "product_wg_ton                     0\n",
       "dtype: int64"
      ]
     },
     "execution_count": 3,
     "metadata": {},
     "output_type": "execute_result"
    }
   ],
   "source": [
    "test_df = df[['wh_est_year', 'storage_issue_reported_l3m','wh_breakdown_l3m','Location_type',\n",
    "              'WH_capacity_size','wh_owner_type', 'approved_wh_govt_certificate','Regional_zone','product_wg_ton']]\n",
    "\n",
    "test_df.isnull().sum()"
   ]
  },
  {
   "cell_type": "code",
   "execution_count": 4,
   "id": "b2994998-ad28-4f1c-8936-b337114663ca",
   "metadata": {},
   "outputs": [],
   "source": [
    "test_year = test_df['wh_est_year'].mode()[0]\n",
    "\n",
    "test_certificate = test_df['approved_wh_govt_certificate'].mode()[0]\n",
    "\n",
    "test_df.loc[test_df['wh_est_year'].isnull(), 'wh_est_year'] = test_year\n",
    "\n",
    "test_df.loc[test_df['approved_wh_govt_certificate'].isnull(), 'approved_wh_govt_certificate'] = test_certificate"
   ]
  },
  {
   "cell_type": "code",
   "execution_count": 5,
   "id": "3d6b8822-7121-4305-ad7f-21f9d4ce040a",
   "metadata": {},
   "outputs": [
    {
     "data": {
      "text/html": [
       "<div>\n",
       "<style scoped>\n",
       "    .dataframe tbody tr th:only-of-type {\n",
       "        vertical-align: middle;\n",
       "    }\n",
       "\n",
       "    .dataframe tbody tr th {\n",
       "        vertical-align: top;\n",
       "    }\n",
       "\n",
       "    .dataframe thead th {\n",
       "        text-align: right;\n",
       "    }\n",
       "</style>\n",
       "<table border=\"1\" class=\"dataframe\">\n",
       "  <thead>\n",
       "    <tr style=\"text-align: right;\">\n",
       "      <th></th>\n",
       "      <th>Unnamed: 0</th>\n",
       "      <th>wh_est_year</th>\n",
       "      <th>storage_issue_reported_l3m</th>\n",
       "      <th>wh_breakdown_l3m</th>\n",
       "      <th>Location_type</th>\n",
       "      <th>WH_capacity_size</th>\n",
       "      <th>wh_owner_type</th>\n",
       "      <th>approved_wh_govt_certificate</th>\n",
       "      <th>Regional_zone</th>\n",
       "      <th>product_wg_ton</th>\n",
       "    </tr>\n",
       "  </thead>\n",
       "  <tbody>\n",
       "    <tr>\n",
       "      <th>0</th>\n",
       "      <td>0</td>\n",
       "      <td>2000.0</td>\n",
       "      <td>13</td>\n",
       "      <td>5</td>\n",
       "      <td>Urban</td>\n",
       "      <td>Small</td>\n",
       "      <td>Rented</td>\n",
       "      <td>A</td>\n",
       "      <td>West Zone 6</td>\n",
       "      <td>17115</td>\n",
       "    </tr>\n",
       "    <tr>\n",
       "      <th>1</th>\n",
       "      <td>1</td>\n",
       "      <td>2000.0</td>\n",
       "      <td>4</td>\n",
       "      <td>3</td>\n",
       "      <td>Rural</td>\n",
       "      <td>Large</td>\n",
       "      <td>Company Owned</td>\n",
       "      <td>A</td>\n",
       "      <td>North Zone 5</td>\n",
       "      <td>5074</td>\n",
       "    </tr>\n",
       "    <tr>\n",
       "      <th>2</th>\n",
       "      <td>2</td>\n",
       "      <td>2000.0</td>\n",
       "      <td>17</td>\n",
       "      <td>6</td>\n",
       "      <td>Rural</td>\n",
       "      <td>Mid</td>\n",
       "      <td>Company Owned</td>\n",
       "      <td>A</td>\n",
       "      <td>South Zone 2</td>\n",
       "      <td>23137</td>\n",
       "    </tr>\n",
       "    <tr>\n",
       "      <th>3</th>\n",
       "      <td>3</td>\n",
       "      <td>2000.0</td>\n",
       "      <td>17</td>\n",
       "      <td>3</td>\n",
       "      <td>Rural</td>\n",
       "      <td>Mid</td>\n",
       "      <td>Rented</td>\n",
       "      <td>A+</td>\n",
       "      <td>North Zone 3</td>\n",
       "      <td>22115</td>\n",
       "    </tr>\n",
       "    <tr>\n",
       "      <th>4</th>\n",
       "      <td>4</td>\n",
       "      <td>2009.0</td>\n",
       "      <td>18</td>\n",
       "      <td>6</td>\n",
       "      <td>Rural</td>\n",
       "      <td>Large</td>\n",
       "      <td>Company Owned</td>\n",
       "      <td>C</td>\n",
       "      <td>North Zone 5</td>\n",
       "      <td>24071</td>\n",
       "    </tr>\n",
       "  </tbody>\n",
       "</table>\n",
       "</div>"
      ],
      "text/plain": [
       "   Unnamed: 0  wh_est_year  storage_issue_reported_l3m  wh_breakdown_l3m  \\\n",
       "0           0       2000.0                          13                 5   \n",
       "1           1       2000.0                           4                 3   \n",
       "2           2       2000.0                          17                 6   \n",
       "3           3       2000.0                          17                 3   \n",
       "4           4       2009.0                          18                 6   \n",
       "\n",
       "  Location_type WH_capacity_size  wh_owner_type approved_wh_govt_certificate  \\\n",
       "0         Urban            Small         Rented                            A   \n",
       "1         Rural            Large  Company Owned                            A   \n",
       "2         Rural              Mid  Company Owned                            A   \n",
       "3         Rural              Mid         Rented                           A+   \n",
       "4         Rural            Large  Company Owned                            C   \n",
       "\n",
       "  Regional_zone  product_wg_ton  \n",
       "0   West Zone 6           17115  \n",
       "1  North Zone 5            5074  \n",
       "2  South Zone 2           23137  \n",
       "3  North Zone 3           22115  \n",
       "4  North Zone 5           24071  "
      ]
     },
     "execution_count": 5,
     "metadata": {},
     "output_type": "execute_result"
    }
   ],
   "source": [
    "train_df = pd.read_csv('train_df.csv')\n",
    "\n",
    "train_df.head()"
   ]
  },
  {
   "cell_type": "markdown",
   "id": "8f7a0368-e557-41a1-bc39-262302ddad5b",
   "metadata": {},
   "source": [
    "## Training and Testing Data"
   ]
  },
  {
   "cell_type": "code",
   "execution_count": 6,
   "id": "3f7412f5-96ea-4b9f-96ca-a8906fd807c8",
   "metadata": {},
   "outputs": [
    {
     "data": {
      "text/html": [
       "<div>\n",
       "<style scoped>\n",
       "    .dataframe tbody tr th:only-of-type {\n",
       "        vertical-align: middle;\n",
       "    }\n",
       "\n",
       "    .dataframe tbody tr th {\n",
       "        vertical-align: top;\n",
       "    }\n",
       "\n",
       "    .dataframe thead th {\n",
       "        text-align: right;\n",
       "    }\n",
       "</style>\n",
       "<table border=\"1\" class=\"dataframe\">\n",
       "  <thead>\n",
       "    <tr style=\"text-align: right;\">\n",
       "      <th></th>\n",
       "      <th>wh_est_year</th>\n",
       "      <th>storage_issue_reported_l3m</th>\n",
       "      <th>wh_breakdown_l3m</th>\n",
       "      <th>Location_type</th>\n",
       "      <th>WH_capacity_size</th>\n",
       "      <th>wh_owner_type</th>\n",
       "      <th>approved_wh_govt_certificate</th>\n",
       "      <th>Regional_zone</th>\n",
       "    </tr>\n",
       "  </thead>\n",
       "  <tbody>\n",
       "    <tr>\n",
       "      <th>0</th>\n",
       "      <td>2000.0</td>\n",
       "      <td>13</td>\n",
       "      <td>5</td>\n",
       "      <td>Urban</td>\n",
       "      <td>Small</td>\n",
       "      <td>Rented</td>\n",
       "      <td>A</td>\n",
       "      <td>West Zone 6</td>\n",
       "    </tr>\n",
       "    <tr>\n",
       "      <th>1</th>\n",
       "      <td>2000.0</td>\n",
       "      <td>4</td>\n",
       "      <td>3</td>\n",
       "      <td>Rural</td>\n",
       "      <td>Large</td>\n",
       "      <td>Company Owned</td>\n",
       "      <td>A</td>\n",
       "      <td>North Zone 5</td>\n",
       "    </tr>\n",
       "    <tr>\n",
       "      <th>2</th>\n",
       "      <td>2000.0</td>\n",
       "      <td>17</td>\n",
       "      <td>6</td>\n",
       "      <td>Rural</td>\n",
       "      <td>Mid</td>\n",
       "      <td>Company Owned</td>\n",
       "      <td>A</td>\n",
       "      <td>South Zone 2</td>\n",
       "    </tr>\n",
       "    <tr>\n",
       "      <th>3</th>\n",
       "      <td>2000.0</td>\n",
       "      <td>17</td>\n",
       "      <td>3</td>\n",
       "      <td>Rural</td>\n",
       "      <td>Mid</td>\n",
       "      <td>Rented</td>\n",
       "      <td>A+</td>\n",
       "      <td>North Zone 3</td>\n",
       "    </tr>\n",
       "    <tr>\n",
       "      <th>4</th>\n",
       "      <td>2009.0</td>\n",
       "      <td>18</td>\n",
       "      <td>6</td>\n",
       "      <td>Rural</td>\n",
       "      <td>Large</td>\n",
       "      <td>Company Owned</td>\n",
       "      <td>C</td>\n",
       "      <td>North Zone 5</td>\n",
       "    </tr>\n",
       "  </tbody>\n",
       "</table>\n",
       "</div>"
      ],
      "text/plain": [
       "   wh_est_year  storage_issue_reported_l3m  wh_breakdown_l3m Location_type  \\\n",
       "0       2000.0                          13                 5         Urban   \n",
       "1       2000.0                           4                 3         Rural   \n",
       "2       2000.0                          17                 6         Rural   \n",
       "3       2000.0                          17                 3         Rural   \n",
       "4       2009.0                          18                 6         Rural   \n",
       "\n",
       "  WH_capacity_size  wh_owner_type approved_wh_govt_certificate Regional_zone  \n",
       "0            Small         Rented                            A   West Zone 6  \n",
       "1            Large  Company Owned                            A  North Zone 5  \n",
       "2              Mid  Company Owned                            A  South Zone 2  \n",
       "3              Mid         Rented                           A+  North Zone 3  \n",
       "4            Large  Company Owned                            C  North Zone 5  "
      ]
     },
     "execution_count": 6,
     "metadata": {},
     "output_type": "execute_result"
    }
   ],
   "source": [
    "X_train = train_df.drop(['product_wg_ton','Unnamed: 0'], axis = 1)\n",
    "\n",
    "X_train.head()"
   ]
  },
  {
   "cell_type": "code",
   "execution_count": 7,
   "id": "ec157d31-ce8c-4123-9e9a-d88c3f1eb3d5",
   "metadata": {},
   "outputs": [
    {
     "data": {
      "text/html": [
       "<div>\n",
       "<style scoped>\n",
       "    .dataframe tbody tr th:only-of-type {\n",
       "        vertical-align: middle;\n",
       "    }\n",
       "\n",
       "    .dataframe tbody tr th {\n",
       "        vertical-align: top;\n",
       "    }\n",
       "\n",
       "    .dataframe thead th {\n",
       "        text-align: right;\n",
       "    }\n",
       "</style>\n",
       "<table border=\"1\" class=\"dataframe\">\n",
       "  <thead>\n",
       "    <tr style=\"text-align: right;\">\n",
       "      <th></th>\n",
       "      <th>wh_est_year</th>\n",
       "      <th>storage_issue_reported_l3m</th>\n",
       "      <th>wh_breakdown_l3m</th>\n",
       "      <th>Location_type</th>\n",
       "      <th>WH_capacity_size</th>\n",
       "      <th>wh_owner_type</th>\n",
       "      <th>approved_wh_govt_certificate</th>\n",
       "      <th>Regional_zone</th>\n",
       "    </tr>\n",
       "  </thead>\n",
       "  <tbody>\n",
       "    <tr>\n",
       "      <th>0</th>\n",
       "      <td>2006.0</td>\n",
       "      <td>24</td>\n",
       "      <td>2</td>\n",
       "      <td>Rural</td>\n",
       "      <td>Large</td>\n",
       "      <td>Company Owned</td>\n",
       "      <td>A</td>\n",
       "      <td>North Zone 5</td>\n",
       "    </tr>\n",
       "    <tr>\n",
       "      <th>1</th>\n",
       "      <td>2019.0</td>\n",
       "      <td>5</td>\n",
       "      <td>2</td>\n",
       "      <td>Rural</td>\n",
       "      <td>Large</td>\n",
       "      <td>Company Owned</td>\n",
       "      <td>C</td>\n",
       "      <td>North Zone 5</td>\n",
       "    </tr>\n",
       "    <tr>\n",
       "      <th>2</th>\n",
       "      <td>2008.0</td>\n",
       "      <td>19</td>\n",
       "      <td>5</td>\n",
       "      <td>Rural</td>\n",
       "      <td>Small</td>\n",
       "      <td>Rented</td>\n",
       "      <td>A+</td>\n",
       "      <td>North Zone 6</td>\n",
       "    </tr>\n",
       "    <tr>\n",
       "      <th>3</th>\n",
       "      <td>2017.0</td>\n",
       "      <td>9</td>\n",
       "      <td>3</td>\n",
       "      <td>Rural</td>\n",
       "      <td>Mid</td>\n",
       "      <td>Rented</td>\n",
       "      <td>A+</td>\n",
       "      <td>West Zone 4</td>\n",
       "    </tr>\n",
       "    <tr>\n",
       "      <th>4</th>\n",
       "      <td>1999.0</td>\n",
       "      <td>25</td>\n",
       "      <td>4</td>\n",
       "      <td>Urban</td>\n",
       "      <td>Mid</td>\n",
       "      <td>Rented</td>\n",
       "      <td>B</td>\n",
       "      <td>North Zone 4</td>\n",
       "    </tr>\n",
       "  </tbody>\n",
       "</table>\n",
       "</div>"
      ],
      "text/plain": [
       "   wh_est_year  storage_issue_reported_l3m  wh_breakdown_l3m Location_type  \\\n",
       "0       2006.0                          24                 2         Rural   \n",
       "1       2019.0                           5                 2         Rural   \n",
       "2       2008.0                          19                 5         Rural   \n",
       "3       2017.0                           9                 3         Rural   \n",
       "4       1999.0                          25                 4         Urban   \n",
       "\n",
       "  WH_capacity_size  wh_owner_type approved_wh_govt_certificate Regional_zone  \n",
       "0            Large  Company Owned                            A  North Zone 5  \n",
       "1            Large  Company Owned                            C  North Zone 5  \n",
       "2            Small         Rented                           A+  North Zone 6  \n",
       "3              Mid         Rented                           A+   West Zone 4  \n",
       "4              Mid         Rented                            B  North Zone 4  "
      ]
     },
     "execution_count": 7,
     "metadata": {},
     "output_type": "execute_result"
    }
   ],
   "source": [
    "X_test = test_df.drop('product_wg_ton', axis = 1)\n",
    "\n",
    "X_test.head()"
   ]
  },
  {
   "cell_type": "code",
   "execution_count": 8,
   "id": "5d1a5a64-265e-4a90-8424-d736d8daf23c",
   "metadata": {},
   "outputs": [
    {
     "data": {
      "text/plain": [
       "0    17115\n",
       "1     5074\n",
       "2    23137\n",
       "3    22115\n",
       "4    24071\n",
       "Name: product_wg_ton, dtype: int64"
      ]
     },
     "execution_count": 8,
     "metadata": {},
     "output_type": "execute_result"
    }
   ],
   "source": [
    "y_train = train_df['product_wg_ton']\n",
    "\n",
    "y_train.head()"
   ]
  },
  {
   "cell_type": "code",
   "execution_count": 9,
   "id": "58e709e2-30e8-4da9-8e75-959c2551c779",
   "metadata": {},
   "outputs": [
    {
     "data": {
      "text/plain": [
       "0    30132\n",
       "1     6075\n",
       "2    24076\n",
       "3    13092\n",
       "4    29071\n",
       "Name: product_wg_ton, dtype: int64"
      ]
     },
     "execution_count": 9,
     "metadata": {},
     "output_type": "execute_result"
    }
   ],
   "source": [
    "y_test = test_df['product_wg_ton']\n",
    "\n",
    "y_test.head()"
   ]
  },
  {
   "cell_type": "markdown",
   "id": "a2038752-c74a-4a97-8477-d7aa0edd51ad",
   "metadata": {},
   "source": [
    "## Building Model"
   ]
  },
  {
   "cell_type": "code",
   "execution_count": 10,
   "id": "f7ce55fd-4ea0-4370-8c3e-13ff344e24bc",
   "metadata": {},
   "outputs": [],
   "source": [
    "from sklearn.preprocessing import OneHotEncoder, MinMaxScaler\n",
    "from sklearn.compose import ColumnTransformer\n",
    "from sklearn.pipeline import Pipeline\n",
    "from sklearn.linear_model import LinearRegression\n",
    "from sklearn.tree import DecisionTreeRegressor\n",
    "from sklearn.ensemble import RandomForestRegressor, AdaBoostRegressor\n",
    "from xgboost import XGBRegressor\n",
    "from sklearn.metrics import r2_score, mean_absolute_error, mean_squared_error\n",
    "import ipywidgets as widgets\n",
    "from IPython.display import display\n",
    "from math import sqrt"
   ]
  },
  {
   "cell_type": "code",
   "execution_count": 11,
   "id": "df1a6036-650e-42ad-91b7-caca6db3bf76",
   "metadata": {},
   "outputs": [],
   "source": [
    "categorical_features = ['Location_type', 'WH_capacity_size', 'wh_owner_type', 'approved_wh_govt_certificate', 'Regional_zone']\n",
    "numerical_features = ['wh_est_year', 'storage_issue_reported_l3m', 'wh_breakdown_l3m']\n",
    "\n",
    "categorical_transformer = Pipeline(steps=[('onehot', OneHotEncoder(sparse_output=False, handle_unknown='ignore'))])\n",
    "numerical_transformer = Pipeline(steps=[('scaler', MinMaxScaler())])\n",
    "\n",
    "preprocessor = ColumnTransformer( transformers=[\n",
    "        ('cat', categorical_transformer, categorical_features),\n",
    "        ('num', numerical_transformer, numerical_features)],\n",
    "        remainder='passthrough')"
   ]
  },
  {
   "cell_type": "code",
   "execution_count": 12,
   "id": "0abaf86a-6e76-48f1-8c56-fd027257ca97",
   "metadata": {},
   "outputs": [],
   "source": [
    "lr  = LinearRegression()\n",
    "dt  = DecisionTreeRegressor()\n",
    "rf  = RandomForestRegressor()\n",
    "ada = AdaBoostRegressor()\n",
    "xgb = XGBRegressor()\n",
    "\n",
    "regressors = [('LinearRegression', lr), ('DecisionTreeRegressor', dt), ('RandomForestRegressor', rf), \n",
    "              ('AdaBoostRegressor', ada), ('XGBRegressor' , xgb)]"
   ]
  },
  {
   "cell_type": "code",
   "execution_count": 13,
   "id": "21e341a8-fa83-4dce-a47b-34dba5b4e3c2",
   "metadata": {},
   "outputs": [
    {
     "name": "stdout",
     "output_type": "stream",
     "text": [
      "r2_score \n",
      "\n",
      "LinearRegression: 98.53%\n",
      "DecisionTreeRegressor: 98.68%\n",
      "RandomForestRegressor: 99.18%\n",
      "AdaBoostRegressor: 97.82%\n",
      "XGBRegressor: 99.20%\n"
     ]
    }
   ],
   "source": [
    "print('r2_score \\n')\n",
    "\n",
    "for regressor_name, regressor in regressors:\n",
    "    \n",
    "    pipeline = Pipeline(steps=[\n",
    "              ('preprocessor', preprocessor),\n",
    "              ('regressor', regressor)])\n",
    "    \n",
    "    pipeline.fit(X_train, y_train)\n",
    "    \n",
    "    y_pred = pipeline.predict(X_test)\n",
    "    \n",
    "    accuracy = r2_score(y_test, y_pred)\n",
    "    \n",
    "    print(f'{regressor_name}: {accuracy * 100:.2f}%')"
   ]
  },
  {
   "cell_type": "code",
   "execution_count": 14,
   "id": "6331d427-1938-4485-bcb7-582f1b3a0863",
   "metadata": {},
   "outputs": [
    {
     "name": "stdout",
     "output_type": "stream",
     "text": [
      "Mean Absolute Error \n",
      "\n",
      "LinearRegression: 1062.377147766323\n",
      "DecisionTreeRegressor: 942.8689317063436\n",
      "RandomForestRegressor: 788.0652523794388\n",
      "AdaBoostRegressor: 1362.9098108934916\n",
      "XGBRegressor: 785.2644650118975\n"
     ]
    }
   ],
   "source": [
    "print('Mean Absolute Error \\n')\n",
    "\n",
    "for regressor_name, regressor in regressors:\n",
    "    \n",
    "    pipeline = Pipeline(steps=[\n",
    "              ('preprocessor', preprocessor),\n",
    "              ('regressor', regressor)])\n",
    "    \n",
    "    pipeline.fit(X_train, y_train)\n",
    "    \n",
    "    y_pred = pipeline.predict(X_test)\n",
    "    \n",
    "    mae = mean_absolute_error(y_test, y_pred)\n",
    "    \n",
    "    print(f'{regressor_name}: {mae}')"
   ]
  },
  {
   "cell_type": "code",
   "execution_count": 15,
   "id": "76040ac1-08f6-4c25-8588-1dd00b8aaebb",
   "metadata": {},
   "outputs": [
    {
     "name": "stdout",
     "output_type": "stream",
     "text": [
      "Root Mean Squared Error \n",
      "\n",
      "LinearRegression: 1414.0961910574904\n",
      "DecisionTreeRegressor: 1336.9682168520894\n",
      "RandomForestRegressor: 1053.1949148144981\n",
      "AdaBoostRegressor: 1677.2881574431246\n",
      "XGBRegressor: 1039.418564612305\n"
     ]
    }
   ],
   "source": [
    "print('Root Mean Squared Error \\n')\n",
    "\n",
    "for regressor_name, regressor in regressors:\n",
    "    \n",
    "    pipeline = Pipeline(steps=[\n",
    "              ('preprocessor', preprocessor),\n",
    "              ('regressor', regressor)])\n",
    "    \n",
    "    pipeline.fit(X_train, y_train)\n",
    "    \n",
    "    y_pred = pipeline.predict(X_test)\n",
    "    \n",
    "    mse = mean_squared_error(y_test, y_pred)\n",
    "    \n",
    "    print(f'{regressor_name}: {sqrt(mse)}')"
   ]
  },
  {
   "cell_type": "code",
   "execution_count": 16,
   "id": "898f5012-9e49-4d1b-ba2c-fd4af8bc27c0",
   "metadata": {},
   "outputs": [],
   "source": [
    "model =  pipeline = Pipeline(steps=[\n",
    "              ('preprocessor', preprocessor),\n",
    "              ('XGBRegressor', xgb)])"
   ]
  },
  {
   "cell_type": "code",
   "execution_count": 17,
   "id": "faf3cc7f-3c3d-439b-b3d2-49e7b97380c5",
   "metadata": {},
   "outputs": [],
   "source": [
    "def prediction(model, X_train):\n",
    "    \n",
    "    a = widgets.IntText(value=0, description='Establishment year:')\n",
    "    \n",
    "    b = widgets.IntText(value=0, description='No. of Storage issues in last 3 months:')\n",
    "    \n",
    "    c = widgets.IntText(value=0, description='No. of Breakdowns in last 3 months:')\n",
    "    \n",
    "    d = widgets.Dropdown(options=['Urban', 'Rural'], rows=2 , description='Location Type:')\n",
    "    \n",
    "    e = widgets.Dropdown(options=['Small', 'Large', 'Mid'], rows=3 , description='Capacity size:')\n",
    "    \n",
    "    f = widgets.Dropdown(options=['Rented', 'Company Owned'], rows=2 , description='Owner type:')\n",
    "    \n",
    "    g = widgets.Dropdown(options=['A+', 'A', 'B+', 'B', 'C'], rows=5 , description='Govt. approved Certificate:')\n",
    "    \n",
    "    h = widgets.Dropdown(options=['West', 'North', 'South', 'East'] , rows=5 , description=' Zone: ')\n",
    "    \n",
    "    i = widgets.Dropdown(options=['Zone 1', 'Zone 2', 'Zone 3', 'Zone 4', 'Zone 5', 'Zone 6'] , rows=6 , description='Regional Zone:')\n",
    "    \n",
    "    descriptions = [\n",
    "        a,\n",
    "        b,\n",
    "        c,\n",
    "        d,\n",
    "        e,\n",
    "        f,\n",
    "        g,\n",
    "        h,\n",
    "        i\n",
    "    ]\n",
    "    \n",
    "    display(widgets.VBox(descriptions))\n",
    "    \n",
    "    def make_prediction(_):\n",
    "        \n",
    "        rz = f\"{h.value} {i.value}\"\n",
    "        \n",
    "        user_data = {\n",
    "            'wh_est_year': [a.value],\n",
    "            'storage_issue_reported_l3m': [b.value],\n",
    "            'wh_breakdown_l3m': [c.value],\n",
    "            'Location_type': [d.value],\n",
    "            'WH_capacity_size': [e.value],\n",
    "            'wh_owner_type' : [f.value],\n",
    "            'approved_wh_govt_certificate': [g.value],\n",
    "            'Regional_zone': [rz]\n",
    "        }\n",
    "\n",
    "        user_df = pd.DataFrame(user_data)\n",
    "\n",
    "        prediction = model.predict(user_df)\n",
    "\n",
    "        print(f\"Weight of Product to be shipped : {prediction[0]} ton\")\n",
    "\n",
    "    button = widgets.Button(description='Make Prediction')\n",
    "    button.on_click(make_prediction)\n",
    "    display(button)"
   ]
  },
  {
   "cell_type": "code",
   "execution_count": 18,
   "id": "bb67540f-498d-4069-8577-8ebe74b63bc9",
   "metadata": {},
   "outputs": [
    {
     "data": {
      "application/vnd.jupyter.widget-view+json": {
       "model_id": "1705c5c2c6ad45bf8730d25b14734860",
       "version_major": 2,
       "version_minor": 0
      },
      "text/plain": [
       "VBox(children=(IntText(value=0, description='Establishment year:'), IntText(value=0, description='No. of Stora…"
      ]
     },
     "metadata": {},
     "output_type": "display_data"
    },
    {
     "data": {
      "application/vnd.jupyter.widget-view+json": {
       "model_id": "7aae7ad8698a4d9fbeaf72352232bfdd",
       "version_major": 2,
       "version_minor": 0
      },
      "text/plain": [
       "Button(description='Make Prediction', style=ButtonStyle())"
      ]
     },
     "metadata": {},
     "output_type": "display_data"
    }
   ],
   "source": [
    "prediction(model, X_train)"
   ]
  },
  {
   "cell_type": "code",
   "execution_count": null,
   "id": "36b45b4f-5b9d-499d-a834-0e7554c0aed6",
   "metadata": {},
   "outputs": [],
   "source": []
  }
 ],
 "metadata": {
  "kernelspec": {
   "display_name": "Python 3 (ipykernel)",
   "language": "python",
   "name": "python3"
  },
  "language_info": {
   "codemirror_mode": {
    "name": "ipython",
    "version": 3
   },
   "file_extension": ".py",
   "mimetype": "text/x-python",
   "name": "python",
   "nbconvert_exporter": "python",
   "pygments_lexer": "ipython3",
   "version": "3.11.2"
  },
  "widgets": {
   "application/vnd.jupyter.widget-state+json": {
    "state": {
     "04a5c251c3ed41b9ad0fc8b6e4c1191a": {
      "model_module": "@jupyter-widgets/controls",
      "model_module_version": "2.0.0",
      "model_name": "IntTextModel",
      "state": {
       "description": "Establishment year:",
       "layout": "IPY_MODEL_b5b04ff8b4e74e6886969170e7c70b72",
       "step": 1,
       "style": "IPY_MODEL_185a59a453064a16ab8cf56a80cd8b0d"
      }
     },
     "09db2e601aaa4db4b508d84f2a86256b": {
      "model_module": "@jupyter-widgets/controls",
      "model_module_version": "2.0.0",
      "model_name": "DropdownModel",
      "state": {
       "_options_labels": [
        "West",
        "North",
        "South",
        "East"
       ],
       "description": " Zone: ",
       "index": 0,
       "layout": "IPY_MODEL_da42bb57999f4f7794ce03059b71db6e",
       "style": "IPY_MODEL_2dc5941b4cdf4f6da80efc5a5b793b92"
      }
     },
     "136589f6b76e4683b2adb22207b95144": {
      "model_module": "@jupyter-widgets/controls",
      "model_module_version": "2.0.0",
      "model_name": "IntTextModel",
      "state": {
       "description": "No. of Breakdowns in last 3 months:",
       "layout": "IPY_MODEL_efe95deb54ea4e68b13f0e507df7eef6",
       "step": 1,
       "style": "IPY_MODEL_579e8612f23446a59327400fa0c8c550"
      }
     },
     "1705c5c2c6ad45bf8730d25b14734860": {
      "model_module": "@jupyter-widgets/controls",
      "model_module_version": "2.0.0",
      "model_name": "VBoxModel",
      "state": {
       "children": [
        "IPY_MODEL_04a5c251c3ed41b9ad0fc8b6e4c1191a",
        "IPY_MODEL_cdfccdd9dbc24e46a0a29b252aa6e4b3",
        "IPY_MODEL_136589f6b76e4683b2adb22207b95144",
        "IPY_MODEL_66b84e2a02914ef6a86cb51441cc0b5e",
        "IPY_MODEL_64ae1c833317440aaff712feb1b255a8",
        "IPY_MODEL_315d46b1c31444ea82b8c509d0e72a07",
        "IPY_MODEL_6783ed8e73d34d2cbf2dad9f9d500970",
        "IPY_MODEL_09db2e601aaa4db4b508d84f2a86256b",
        "IPY_MODEL_a9b0169d815d465db1627bb17b84000e"
       ],
       "layout": "IPY_MODEL_ab156a6e49e7426a93dd7434953cd24e"
      }
     },
     "185a59a453064a16ab8cf56a80cd8b0d": {
      "model_module": "@jupyter-widgets/controls",
      "model_module_version": "2.0.0",
      "model_name": "DescriptionStyleModel",
      "state": {
       "description_width": ""
      }
     },
     "2dc5941b4cdf4f6da80efc5a5b793b92": {
      "model_module": "@jupyter-widgets/controls",
      "model_module_version": "2.0.0",
      "model_name": "DescriptionStyleModel",
      "state": {
       "description_width": ""
      }
     },
     "30db076cade14549a807b70aaf07ed9b": {
      "model_module": "@jupyter-widgets/base",
      "model_module_version": "2.0.0",
      "model_name": "LayoutModel",
      "state": {}
     },
     "315d46b1c31444ea82b8c509d0e72a07": {
      "model_module": "@jupyter-widgets/controls",
      "model_module_version": "2.0.0",
      "model_name": "DropdownModel",
      "state": {
       "_options_labels": [
        "Rented",
        "Company Owned"
       ],
       "description": "Owner type:",
       "index": 0,
       "layout": "IPY_MODEL_e8932a09af484065adecfd5da1668e86",
       "style": "IPY_MODEL_fc26ec1472d7422c9f4699cf392affd8"
      }
     },
     "361cc9813e0a4c9c893e843b541b9f17": {
      "model_module": "@jupyter-widgets/controls",
      "model_module_version": "2.0.0",
      "model_name": "DescriptionStyleModel",
      "state": {
       "description_width": ""
      }
     },
     "4526694628b24eb0b00c5aff93e935e7": {
      "model_module": "@jupyter-widgets/controls",
      "model_module_version": "2.0.0",
      "model_name": "DescriptionStyleModel",
      "state": {
       "description_width": ""
      }
     },
     "579e8612f23446a59327400fa0c8c550": {
      "model_module": "@jupyter-widgets/controls",
      "model_module_version": "2.0.0",
      "model_name": "DescriptionStyleModel",
      "state": {
       "description_width": ""
      }
     },
     "5d5a59b548be462aaf085342b07e1ada": {
      "model_module": "@jupyter-widgets/base",
      "model_module_version": "2.0.0",
      "model_name": "LayoutModel",
      "state": {}
     },
     "64ae1c833317440aaff712feb1b255a8": {
      "model_module": "@jupyter-widgets/controls",
      "model_module_version": "2.0.0",
      "model_name": "DropdownModel",
      "state": {
       "_options_labels": [
        "Small",
        "Large",
        "Mid"
       ],
       "description": "Capacity size:",
       "index": 0,
       "layout": "IPY_MODEL_5d5a59b548be462aaf085342b07e1ada",
       "style": "IPY_MODEL_f07decf0f86548a8b04ade04f2790044"
      }
     },
     "66b84e2a02914ef6a86cb51441cc0b5e": {
      "model_module": "@jupyter-widgets/controls",
      "model_module_version": "2.0.0",
      "model_name": "DropdownModel",
      "state": {
       "_options_labels": [
        "Urban",
        "Rural"
       ],
       "description": "Location Type:",
       "index": 0,
       "layout": "IPY_MODEL_30db076cade14549a807b70aaf07ed9b",
       "style": "IPY_MODEL_361cc9813e0a4c9c893e843b541b9f17"
      }
     },
     "6783ed8e73d34d2cbf2dad9f9d500970": {
      "model_module": "@jupyter-widgets/controls",
      "model_module_version": "2.0.0",
      "model_name": "DropdownModel",
      "state": {
       "_options_labels": [
        "A+",
        "A",
        "B+",
        "B",
        "C"
       ],
       "description": "Govt. approved Certificate:",
       "index": 0,
       "layout": "IPY_MODEL_968591d52e3c461bba5e7944aa6fee31",
       "style": "IPY_MODEL_4526694628b24eb0b00c5aff93e935e7"
      }
     },
     "79dc0254926c4e0a8f2eb5f4588a8707": {
      "model_module": "@jupyter-widgets/base",
      "model_module_version": "2.0.0",
      "model_name": "LayoutModel",
      "state": {}
     },
     "7aae7ad8698a4d9fbeaf72352232bfdd": {
      "model_module": "@jupyter-widgets/controls",
      "model_module_version": "2.0.0",
      "model_name": "ButtonModel",
      "state": {
       "description": "Make Prediction",
       "layout": "IPY_MODEL_a1f0ddcd869343178f8f2949149469d0",
       "style": "IPY_MODEL_9e0525dbf1af4ebf9ef7a18f0f302aa8",
       "tooltip": null
      }
     },
     "850caef809904bfebf42453f189ec7c5": {
      "model_module": "@jupyter-widgets/controls",
      "model_module_version": "2.0.0",
      "model_name": "DescriptionStyleModel",
      "state": {
       "description_width": ""
      }
     },
     "968591d52e3c461bba5e7944aa6fee31": {
      "model_module": "@jupyter-widgets/base",
      "model_module_version": "2.0.0",
      "model_name": "LayoutModel",
      "state": {}
     },
     "9e0525dbf1af4ebf9ef7a18f0f302aa8": {
      "model_module": "@jupyter-widgets/controls",
      "model_module_version": "2.0.0",
      "model_name": "ButtonStyleModel",
      "state": {
       "font_family": null,
       "font_size": null,
       "font_style": null,
       "font_variant": null,
       "font_weight": null,
       "text_color": null,
       "text_decoration": null
      }
     },
     "a1f0ddcd869343178f8f2949149469d0": {
      "model_module": "@jupyter-widgets/base",
      "model_module_version": "2.0.0",
      "model_name": "LayoutModel",
      "state": {}
     },
     "a27150be4cf643eb9acd07be1972fa8d": {
      "model_module": "@jupyter-widgets/controls",
      "model_module_version": "2.0.0",
      "model_name": "DescriptionStyleModel",
      "state": {
       "description_width": ""
      }
     },
     "a9b0169d815d465db1627bb17b84000e": {
      "model_module": "@jupyter-widgets/controls",
      "model_module_version": "2.0.0",
      "model_name": "DropdownModel",
      "state": {
       "_options_labels": [
        "Zone 1",
        "Zone 2",
        "Zone 3",
        "Zone 4",
        "Zone 5",
        "Zone 6"
       ],
       "description": "Regional Zone:",
       "index": 0,
       "layout": "IPY_MODEL_c6389a578e1341eeb2b71ec3a09dc298",
       "style": "IPY_MODEL_850caef809904bfebf42453f189ec7c5"
      }
     },
     "ab156a6e49e7426a93dd7434953cd24e": {
      "model_module": "@jupyter-widgets/base",
      "model_module_version": "2.0.0",
      "model_name": "LayoutModel",
      "state": {}
     },
     "b5b04ff8b4e74e6886969170e7c70b72": {
      "model_module": "@jupyter-widgets/base",
      "model_module_version": "2.0.0",
      "model_name": "LayoutModel",
      "state": {}
     },
     "c6389a578e1341eeb2b71ec3a09dc298": {
      "model_module": "@jupyter-widgets/base",
      "model_module_version": "2.0.0",
      "model_name": "LayoutModel",
      "state": {}
     },
     "cdfccdd9dbc24e46a0a29b252aa6e4b3": {
      "model_module": "@jupyter-widgets/controls",
      "model_module_version": "2.0.0",
      "model_name": "IntTextModel",
      "state": {
       "description": "No. of Storage issues in last 3 months:",
       "layout": "IPY_MODEL_79dc0254926c4e0a8f2eb5f4588a8707",
       "step": 1,
       "style": "IPY_MODEL_a27150be4cf643eb9acd07be1972fa8d"
      }
     },
     "da42bb57999f4f7794ce03059b71db6e": {
      "model_module": "@jupyter-widgets/base",
      "model_module_version": "2.0.0",
      "model_name": "LayoutModel",
      "state": {}
     },
     "e8932a09af484065adecfd5da1668e86": {
      "model_module": "@jupyter-widgets/base",
      "model_module_version": "2.0.0",
      "model_name": "LayoutModel",
      "state": {}
     },
     "efe95deb54ea4e68b13f0e507df7eef6": {
      "model_module": "@jupyter-widgets/base",
      "model_module_version": "2.0.0",
      "model_name": "LayoutModel",
      "state": {}
     },
     "f07decf0f86548a8b04ade04f2790044": {
      "model_module": "@jupyter-widgets/controls",
      "model_module_version": "2.0.0",
      "model_name": "DescriptionStyleModel",
      "state": {
       "description_width": ""
      }
     },
     "fc26ec1472d7422c9f4699cf392affd8": {
      "model_module": "@jupyter-widgets/controls",
      "model_module_version": "2.0.0",
      "model_name": "DescriptionStyleModel",
      "state": {
       "description_width": ""
      }
     }
    },
    "version_major": 2,
    "version_minor": 0
   }
  }
 },
 "nbformat": 4,
 "nbformat_minor": 5
}
